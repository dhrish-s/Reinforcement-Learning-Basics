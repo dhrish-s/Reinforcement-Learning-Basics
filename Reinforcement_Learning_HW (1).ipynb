{
  "nbformat": 4,
  "nbformat_minor": 0,
  "metadata": {
    "colab": {
      "provenance": []
    },
    "kernelspec": {
      "name": "python3",
      "display_name": "Python 3"
    },
    "language_info": {
      "name": "python"
    }
  },
  "cells": [
    {
      "cell_type": "code",
      "source": [
        "Q).we are running a website and we have five different banners for a single advertisement that is been showed on our website and say\n",
        "we want to figure out which advertisement banner is most liked by the user.\n"
      ],
      "metadata": {
        "id": "Vn0DNbsGfUOZ"
      },
      "execution_count": null,
      "outputs": []
    },
    {
      "cell_type": "code",
      "source": [
        "import numpy as np\n",
        "import pandas as pd"
      ],
      "metadata": {
        "id": "G_RSwxrv7Eb6"
      },
      "execution_count": 33,
      "outputs": []
    },
    {
      "cell_type": "code",
      "source": [
        "# Creating the Dataset\n",
        "df = pd.DataFrame()\n",
        "for i in range(5):\n",
        "    df['Banner_type_'+str(i)] = np.random.randint(0,2,100000)"
      ],
      "metadata": {
        "id": "Tv63z5O57xp-"
      },
      "execution_count": 34,
      "outputs": []
    },
    {
      "cell_type": "code",
      "source": [
        "# Initialization\n",
        "num_banners = 5\n",
        "counts = [0] * num_banners # Count of times each banner was shown\n",
        "sums = [0] * num_banners   # Sum of rewards (likes) for each banner\n",
        "epsilon = 0.5"
      ],
      "metadata": {
        "id": "ecyU2GLy8qSu",
        "colab": {
          "base_uri": "https://localhost:8080/"
        },
        "outputId": "60b51382-8e7d-4538-82c8-f5381cf773ad"
      },
      "execution_count": 35,
      "outputs": [
        {
          "output_type": "stream",
          "name": "stderr",
          "text": [
            "/usr/local/lib/python3.10/dist-packages/ipykernel/ipkernel.py:283: DeprecationWarning: `should_run_async` will not call `transform_cell` automatically in the future. Please pass the result to `transformed_cell` argument and any exception that happen during thetransform in `preprocessing_exc_tuple` in IPython 7.17 and above.\n",
            "  and should_run_async(code)\n"
          ]
        }
      ]
    },
    {
      "cell_type": "code",
      "source": [
        "for index, row in df.iterrows():\n",
        "    if np.random.rand() < epsilon:\n",
        "        # Exploration: Randomly select a banner\n",
        "        selected_banner = np.random.randint(0, num_banners)\n",
        "    else:\n",
        "        # Exploitation: Select the banner with the highest conversion rate\n",
        "        conversion_rates = [sums[i] / (counts[i] + 1e-5) for i in range(num_banners)]\n",
        "        selected_banner = np.argmax(conversion_rates)\n",
        "\n",
        "    # Update counts and sums\n",
        "    reward = row['Banner_type_' + str(selected_banner)]\n",
        "    counts[selected_banner] += 1\n",
        "    sums[selected_banner] += reward\n",
        "\n",
        "# Results\n",
        "for i in range(num_banners):\n",
        "    print(f\"Banner {i} Conversion Rate: {sums[i] / counts[i]:.4f}\")"
      ],
      "metadata": {
        "colab": {
          "base_uri": "https://localhost:8080/"
        },
        "id": "oapD3Ie39Pr-",
        "outputId": "f844d219-88cf-46ed-cecf-5caba839cc6c"
      },
      "execution_count": 37,
      "outputs": [
        {
          "output_type": "stream",
          "name": "stdout",
          "text": [
            "Banner 0 Conversion Rate: 0.5021\n",
            "Banner 1 Conversion Rate: 0.4987\n",
            "Banner 2 Conversion Rate: 0.4973\n",
            "Banner 3 Conversion Rate: 0.4957\n",
            "Banner 4 Conversion Rate: 0.4924\n"
          ]
        }
      ]
    },
    {
      "cell_type": "code",
      "source": [
        "# Results\n",
        "banner_conversion_rates = [sums[i] / counts[i] for i in range(num_banners)]\n",
        "best_banner_index = np.argmax(banner_conversion_rates)\n"
      ],
      "metadata": {
        "id": "Zz85PhiW9kNC"
      },
      "execution_count": 38,
      "outputs": []
    },
    {
      "cell_type": "code",
      "source": [
        "print(f\"The best banner is Banner_type_{best_banner_index} with a conversion rate of {banner_conversion_rates[best_banner_index]:.4f}\")\n"
      ],
      "metadata": {
        "id": "Smnoa_WI9znU",
        "colab": {
          "base_uri": "https://localhost:8080/"
        },
        "outputId": "21c4441d-7ae9-4e16-fc17-1b3415c4da78"
      },
      "execution_count": 39,
      "outputs": [
        {
          "output_type": "stream",
          "name": "stdout",
          "text": [
            "The best banner is Banner_type_0 with a conversion rate of 0.5021\n"
          ]
        }
      ]
    },
    {
      "cell_type": "code",
      "source": [],
      "metadata": {
        "id": "BA626qA2bQcY"
      },
      "execution_count": null,
      "outputs": []
    }
  ]
}