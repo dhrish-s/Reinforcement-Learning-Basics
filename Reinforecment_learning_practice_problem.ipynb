{
  "nbformat": 4,
  "nbformat_minor": 0,
  "metadata": {
    "colab": {
      "provenance": []
    },
    "kernelspec": {
      "name": "python3",
      "display_name": "Python 3"
    },
    "language_info": {
      "name": "python"
    }
  },
  "cells": [
    {
      "cell_type": "markdown",
      "source": [
        "Q.In certain situations you have to select one action from a set of 10 possible actions (for that particular state).\n",
        "After each choice you receive a numerical reward chosen from a stationary probability distribution (i.e. the true reward does not change)\n",
        "depending upon the action you selected. Your objective is to maximize the expected total reward over some time period. Formalize the above\n",
        "scenario as k-armed bandit problem and implement in Python to illustrate the exploration and exploitation strategy with epsilon value 0.5.\n"
      ],
      "metadata": {
        "id": "kuOBPnza79DT"
      }
    },
    {
      "cell_type": "code",
      "source": [
        "# we have to use epsilon greedy algorithm with epsilon value 0.5\n",
        "\n",
        "#If nothing is mentioned we can use any algorithm and assume the  epsilon value"
      ],
      "metadata": {
        "id": "WWvhxRxk7ewH"
      },
      "execution_count": 1,
      "outputs": []
    },
    {
      "cell_type": "code",
      "source": [
        "import numpy as np\n",
        "import pandas as pd"
      ],
      "metadata": {
        "id": "09fRNtix7p9m"
      },
      "execution_count": 2,
      "outputs": []
    },
    {
      "cell_type": "code",
      "source": [
        "# Creating the Dataset\n",
        "df = pd.DataFrame()\n",
        "for i in range(10):\n",
        "    df['Action:'+str(i)] = np.random.randint(0,2,100)"
      ],
      "metadata": {
        "id": "pXMwyPAsEmBX"
      },
      "execution_count": 16,
      "outputs": []
    },
    {
      "cell_type": "code",
      "source": [
        "num_interations=10"
      ],
      "metadata": {
        "id": "s-u78_sE_gV2"
      },
      "execution_count": 17,
      "outputs": []
    },
    {
      "cell_type": "code",
      "source": [
        "\n",
        "num_banner=10"
      ],
      "metadata": {
        "id": "jWD4thLwCHWk"
      },
      "execution_count": 45,
      "outputs": []
    },
    {
      "cell_type": "code",
      "source": [
        "count=np.zeros(num_banner)"
      ],
      "metadata": {
        "id": "-wWXW8RiCRnD"
      },
      "execution_count": 19,
      "outputs": []
    },
    {
      "cell_type": "code",
      "source": [
        "count=np.zeros(num_banner)"
      ],
      "metadata": {
        "id": "P5Vei_bsCZEv"
      },
      "execution_count": 20,
      "outputs": []
    },
    {
      "cell_type": "code",
      "source": [
        "sum_rewards=np.zeros(num_banner)\n"
      ],
      "metadata": {
        "id": "TMRdyUM5Cft8"
      },
      "execution_count": 39,
      "outputs": []
    },
    {
      "cell_type": "code",
      "source": [
        "Q=np.zeros(num_banner)"
      ],
      "metadata": {
        "id": "HekqO53PCllH"
      },
      "execution_count": 22,
      "outputs": []
    },
    {
      "cell_type": "code",
      "source": [
        "banner_selected=[]"
      ],
      "metadata": {
        "id": "i7HHbmh6Cpe8"
      },
      "execution_count": 23,
      "outputs": []
    },
    {
      "cell_type": "code",
      "source": [
        "def epsilon_greedy_policy(epsilon): #Agent Policy\n",
        "\n",
        "  if np.random.uniform(0,1) < epsilon:  #Explore\n",
        "    np.random.seed(1)\n",
        "    return np.random.choice(num_banner)\n",
        "\n",
        "  else:\n",
        "    return np.argmax(Q) #Exploit"
      ],
      "metadata": {
        "id": "T8PWKRn-CrR7"
      },
      "execution_count": 32,
      "outputs": []
    },
    {
      "cell_type": "code",
      "source": [
        "for i in range(num_interations):\n",
        "\n",
        "  #Select the banner using the epsilon-greedy policy\n",
        "  banner=epsilon_greedy_policy(0.5)\n",
        "\n",
        "  #Get the reward of the banner\n",
        "  reward=df.values[i,banner] #Dataframe without the indexxing on actual data\n",
        "\n",
        "  #Increment the counter\n",
        "  count[banner] +=1\n",
        "\n",
        "  #Store the sum of rewards\n",
        "  sum_rewards[banner]+=reward\n",
        "\n",
        "  #Compute the avg speed\n",
        "  Q[banner] =sum_rewards[banner]/count[banner]\n",
        "\n",
        "  #Store the banner to the banner selected list:\n",
        "  banner_selected.append(banner)"
      ],
      "metadata": {
        "id": "TW3xw_kuEFtJ"
      },
      "execution_count": 33,
      "outputs": []
    },
    {
      "cell_type": "code",
      "source": [
        "print('The optimal ARM:{}'.format(np.argmax(Q)))"
      ],
      "metadata": {
        "colab": {
          "base_uri": "https://localhost:8080/"
        },
        "id": "oopLOL_0EG8T",
        "outputId": "fda6d6ac-5ad4-436d-d68f-63f97c30932d"
      },
      "execution_count": 41,
      "outputs": [
        {
          "output_type": "stream",
          "name": "stdout",
          "text": [
            "The optimal ARM:5\n"
          ]
        }
      ]
    },
    {
      "cell_type": "code",
      "source": [
        "import seaborn as sns\n",
        "import matplotlib.pyplot as plt\n",
        "%matplotlib inline"
      ],
      "metadata": {
        "id": "1vXDnQFIFId4"
      },
      "execution_count": 42,
      "outputs": []
    },
    {
      "cell_type": "code",
      "source": [
        "ax=sns.histplot(banner_selected)\n",
        "ax.set(xlabel='Banner',ylabel='Count')\n",
        "plt.show()"
      ],
      "metadata": {
        "colab": {
          "base_uri": "https://localhost:8080/",
          "height": 449
        },
        "id": "4x3lYlX3FQRK",
        "outputId": "2d593497-fdd7-48ae-b0e5-09eafc958713"
      },
      "execution_count": 43,
      "outputs": [
        {
          "output_type": "display_data",
          "data": {
            "text/plain": [
              "<Figure size 640x480 with 1 Axes>"
            ],
            "image/png": "[encoded data removed]"
          },
          "metadata": {}
        }
      ]
    },
    {
      "cell_type": "code",
      "source": [],
      "metadata": {
        "id": "Us1qEA4TFp05"
      },
      "execution_count": null,
      "outputs": []
    }
  ]
}