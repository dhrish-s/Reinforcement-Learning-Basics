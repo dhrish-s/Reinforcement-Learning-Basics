{
  "nbformat": 4,
  "nbformat_minor": 0,
  "metadata": {
    "colab": {
      "provenance": []
    },
    "kernelspec": {
      "name": "python3",
      "display_name": "Python 3"
    },
    "language_info": {
      "name": "python"
    }
  },
  "cells": [
    {
      "cell_type": "code",
      "execution_count": null,
      "metadata": {
        "id": "seB1TvvfJCSQ"
      },
      "outputs": [],
      "source": [
        "# Exploration\n",
        "# An agent primarily improves its knowledge about each activity by gathering more information to make best  overall actions.\n",
        "\n",
        "# Exploitation\n",
        "# An agent aims at more rewards based on the estimated value (greedy) and then the agent makes decision based on current information\n",
        "\n"
      ]
    },
    {
      "cell_type": "markdown",
      "source": [
        "#Epsilon-Greedy Policy"
      ],
      "metadata": {
        "id": "nKwva7F5Sb_K"
      }
    },
    {
      "cell_type": "code",
      "source": [
        "# The Epsilon-Greedy policy is a popular approach used in ad optimization, a common application of multi-arm bandit algorithms in the field of advertising.\n",
        "# In this context, the goal is to maximize the click-through rate (CTR) or any other relevant metric for the ads displayed to users.\n",
        "\n",
        "# Here's a simple explained example of how the Epsilon-Greedy policy works in ad optimization:\n",
        "\n",
        "# Let's say you are running an online advertising platform, and you have 5 different ad variations (arms) that you want to test.\n",
        "# Each ad variation corresponds to a different design or message, and you want to determine which ad performs the best in terms of getting clicks from users.\n",
        "\n",
        "# Initialization: At the beginning of the experiment, you have no information about which ad performs best.\n",
        "# So, you set the initial value of epsilon, ε (the exploration rate), to a high value, say 0.9.\n",
        "# This means you will explore 90% of the time and exploit the best-performing ad only 10% of the time.\n",
        "\n",
        "# Experimentation: You start displaying the 5 ad variations to different users in a random order.\n",
        "# When a user visits your platform, you randomly select an ad to show them based on the current value of ε.\n",
        "\n",
        "# Exploration Phase: With a high value of ε, you focus on exploring different ad variations.\n",
        "# This means you show each ad almost equally to different users. During this phase, you gather data on how each ad performs in terms of clicks.\n",
        "\n",
        "# Exploitation Phase: As the experiment progresses, you start to get an idea of which ad performs better based on the data collected so far.\n",
        "# The Epsilon-Greedy policy will start to exploit the best-known ad more often.\n",
        "\n",
        "# Updating Epsilon: Over time, you gradually reduce the value of ε.\n",
        "# For example, you may decay ε by a small factor after a fixed number of rounds or based on the number of samples collected.\n",
        "# As ε decreases, the algorithm shifts from exploration to exploitation.\n",
        "\n",
        "# Balancing Exploration and Exploitation: The key challenge is to find the right balance between exploration and exploitation.\n",
        "# If ε is too high for too long, you may not exploit the best-performing ad enough, resulting in suboptimal performance.\n",
        "# On the other hand, if ε decreases too quickly, you might miss out on finding potentially better-performing ads.\n",
        "\n",
        "# Convergence: As the experiment continues and ε approaches zero, the Epsilon-Greedy policy should converge towards exploiting the best-performing ad most of the time.\n",
        "# This ad will be the one that maximizes the click-through rate or any other relevant metric.\n",
        "\n",
        "# Continuous Learning: In a real-world scenario, you would continuously collect data and update your ad optimization strategy.\n",
        "# New ads may be introduced, or ad performance may change over time, requiring the algorithm to adapt.\n",
        "\n",
        "# By using the Epsilon-Greedy policy, you can efficiently explore different ad variations while exploiting the best-performing ad in the long run,\n",
        "# leading to an improved click-through rate and better ad optimization."
      ],
      "metadata": {
        "id": "UMEYqWWnQ3zt"
      },
      "execution_count": null,
      "outputs": []
    },
    {
      "cell_type": "code",
      "source": [
        "from io import IncrementalNewlineDecoder\n",
        "import numpy as np\n",
        "import random\n",
        "import matplotlib.pyplot as plt\n",
        "%matplotlib inline\n",
        "np.random.seed(5)"
      ],
      "metadata": {
        "id": "XC7swj3ESLHZ"
      },
      "execution_count": null,
      "outputs": []
    },
    {
      "cell_type": "code",
      "source": [
        "n=10\n",
        "arms=np.random.rand(n)\n",
        "eps=0.1 # probability of exploration action\n",
        "# eps is a very minimum value ( this is done to avoid the gradient descent problem)\n",
        "# the epsilon value is minimal to strike a balance between exploring new options and exploiting the best-known option.\n",
        "# When the epsilon value is minimal (close to zero), it means that the algorithm has mostly explored all the available options and\n",
        "# has gathered enough information about their performance.\n",
        "\n",
        "# At this point, the algorithm starts to shift its focus more towards exploitation, meaning it will choose the option that has shown the best results so far.\n",
        "\n",
        "# By minimizing the epsilon value, the algorithm becomes more confident in its decisions and starts to exploit the best option more frequently.\n",
        "# This is beneficial because it allows the algorithm to take advantage of the knowledge it has gained through exploration and\n",
        "# concentrate on making choices that are likely to yield the highest rewards or success.\n",
        "\n",
        "# In summary, as the epsilon value becomes minimal, the algorithm becomes more selective in its actions, choosing the best-known option more often and\n",
        "# reducing its reliance on random exploration. This enables the algorithm to make more informed decisions and\n",
        "# optimize its performance based on the information it has gathered during the exploration phase."
      ],
      "metadata": {
        "id": "k4UIyKDcTJwd"
      },
      "execution_count": null,
      "outputs": []
    },
    {
      "cell_type": "code",
      "source": [
        "# this function will be used during the explotation phase\n",
        "def reward(prob):    # probability of choosing an arm to exploit\n",
        "  reward=0\n",
        "  for i in range(10):\n",
        "    if random.random() < prob: # this is a random value which is below the probaility exloitation\n",
        "      reward +=1\n",
        "  return reward\n",
        "\n",
        "\n",
        "  # The function \"reward\" simulates the process of selecting an arm (option) to exploit during the exploitation phase.\n",
        "  # It does this by running a loop 10 times (you can change this number as needed).\n",
        "\n",
        "# Inside the loop, it generates a random number between 0 and 1. If this random number is less than the probability \"prob,\" it means the arm is selected for exploitation, and\n",
        "# the agent gets a reward. The rewards obtained during the 10 iterations are added up, and the total rewards obtained during the exploitation phase are returned.\n",
        "\n",
        "# Remember, the higher the probability \"prob,\" the more likely the arm is to be chosen for exploitation, and thus, the higher the expected rewards.\n",
        "# The function simulates this process, allowing us to evaluate how well an arm performs in terms of rewards during the exploitation phase."
      ],
      "metadata": {
        "id": "9mfV-H-iT3lm"
      },
      "execution_count": null,
      "outputs": []
    },
    {
      "cell_type": "code",
      "source": [
        "import random\n",
        "\n",
        "# This function calculates the rewards obtained during the exploitation phase.\n",
        "# It simulates selecting an arm (option) to exploit based on the given probability.\n",
        "\n",
        "def reward(prob):   # Define a function named \"reward\" that takes the probability \"prob\" as input.\n",
        "\n",
        "  reward = 0       # Initialize a variable to keep track of the total rewards obtained.\n",
        "\n",
        "  for i in range(10):   # Repeat the following process 10 times (for example).\n",
        "\n",
        "    if random.random() < prob:   # Generate a random number between 0 and 1, and compare it with the probability \"prob\".\n",
        "      # If the randomly generated number is less than the probability \"prob\"...\n",
        "      # (In other words, there's a chance of \"prob\" that the arm will be selected for exploitation.)\n",
        "\n",
        "      reward += 1    # Increment the rewards by 1, as the arm is chosen and the agent gets a reward.\n",
        "\n",
        "  return reward    # Return the total rewards obtained during the exploitation phase.\n"
      ],
      "metadata": {
        "id": "lhJkYR4dUzvH"
      },
      "execution_count": null,
      "outputs": []
    },
    {
      "cell_type": "code",
      "source": [
        "# initialize the memory array ; has 1 row defaulted to random activity index\n",
        "av = np.array([random.randint(0,(n+1)),0]).reshape(1,2)\n",
        "\n",
        "# random.randint(0, (n+1)): This generates a random integer between 0 and (n+1). Here, n represents the number of available actions or options that the agent can take.\n",
        "\n",
        "# [random.randint(0, (n+1)), 0]: This creates a Python list with two elements. The first element is the randomly generated integer from step 1,\n",
        "# representing the index of the action the agent chose. The second element is set to 0, representing the initial reward obtained for that action.\n",
        "\n",
        "# np.array(...): This converts the Python list into a NumPy array, which is a more efficient data structure for numerical computations.\n",
        "\n",
        "# reshape(1, 2): This reshapes the 1D array into a 2D array with one row and two columns. The first column represents the index of the action chosen, and\n",
        "# the second column represents the corresponding reward obtained for that action.\n",
        "\n",
        "# Code initializes the av memory array with one row that stores the index of a randomly chosen action and its corresponding reward (which is initially set to 0).\n",
        "# This memory array will be used to keep track of the agent's previous actions and rewards, enabling it to learn from its past experiences and make better decisions in the future.\n",
        "# As the agent explores and exploits different actions, this memory will be updated to reflect the rewards received for each action."
      ],
      "metadata": {
        "id": "CoF67vmLVZSK"
      },
      "execution_count": null,
      "outputs": []
    },
    {
      "cell_type": "code",
      "source": [
        "# greedy method to select the best arm based on memory array\n",
        "def bestArm(a):\n",
        "  bestArm=0 # default 0\n",
        "  bestMean=0\n",
        "  for u in a:\n",
        "    # calculate eman reward for each action\n",
        "    avg = np.mean(a[np.where(a[:,0]==u[0])][:,1])\n",
        "    if bestMean < avg:\n",
        "      bestMean = avg\n",
        "      bestArm = u[0]\n",
        "  return bestArm\n",
        "\n",
        "  # the function bestArm takes the memory array a as input and calculates the average reward for each action based on the history of rewards stored in the memory.\n",
        "  # It then identifies the action with the highest average reward, indicating the best-performing arm so far.\n",
        "\n",
        "# By using the greedy approach, the function selects the arm with the highest average reward at the moment, without considering the potential for better rewards in the future.\n",
        "# The best arm is determined solely based on the historical data available in the memory array a.\n",
        "# This method is simple and efficient but may not always lead to the globally optimal choice, especially in dynamic or non-stationary environments.\n",
        "# Nevertheless, it can serve as a good starting point for exploring and exploiting actions in a multi-arm bandit problem."
      ],
      "metadata": {
        "id": "9PRWV2N-V87f"
      },
      "execution_count": null,
      "outputs": []
    },
    {
      "cell_type": "code",
      "source": [
        "def bestArm(a):\n",
        "  bestArm = 0   # Initialize the index of the best arm to 0 (by default).\n",
        "  bestMean = 0  # Initialize the mean reward of the best arm to 0.\n",
        "\n",
        "  for u in a:   # Loop through each row in the memory array `a`.\n",
        "    # Calculate the average reward for each action based on the memory array.\n",
        "\n",
        "    # a[np.where(a[:, 0] == u[0])]: Select rows from the memory array where the first column (action index) matches the current action index `u[0]`.\n",
        "    # [:, 1]: Select the second column (reward) from the rows that match the action index.\n",
        "\n",
        "    avg = np.mean(a[np.where(a[:, 0] == u[0])][:, 1])\n",
        "\n",
        "    # Compare the calculated average reward (`avg`) with the current best mean reward (`bestMean`).\n",
        "    # If the average reward for the current action is higher, update the best mean reward and the index of the best arm.\n",
        "    if bestMean < avg:\n",
        "      bestMean = avg\n",
        "      bestArm = u[0]\n",
        "\n",
        "  return bestArm  # Return the index of the best arm (the action with the highest average reward).\n"
      ],
      "metadata": {
        "id": "vxYj0locXWmA"
      },
      "execution_count": null,
      "outputs": []
    },
    {
      "cell_type": "code",
      "source": [
        "# The next function you define is your greedy strategy of choosing the best arm so far. This function accepts a memory array that stores the history of all actions and their rewards.\n",
        "# It is a 2 x k matrix where each row is an index reference to your arms array ( 1 st element), and the reward received ( 2nd element ).\n",
        "# For example , if a row in your memory array is [2,8] it means that action 2 was taken ( the 3rd elemt in your arms array) and you received a reward of 8 for taking that action.\n",
        "# And here is the main loop for each play, let's play it 500 times and display a matplotlib scatter plot of the mean reward against he number of times the game is played"
      ],
      "metadata": {
        "id": "SNECLaE4Xfjt"
      },
      "execution_count": null,
      "outputs": []
    },
    {
      "cell_type": "code",
      "source": [
        "plt.xlabel(\"Number of times played\")\n",
        "plt.ylabel(\"Average Reward\")\n",
        "\n",
        "#Epsilon-greedy algorithm\n",
        "for i in range(500):\n",
        "  if random.random()>eps:\n",
        "    #greedy exploitation action eps=0.1,1-eps=0.9\n",
        "    choice =bestArm(av) #call the method bestArm(action-value)\n",
        "    thisAV=np.array([[choice,reward(arms[choice])]])#call the reward method\n",
        "    av=np.concatenate((av,thisAV),axis=0)\n",
        "  else: #exploration - Agent explores other arms\n",
        "    choice=np.where(arms==np.random.choice(arms))[0][0] #choice,reward\n",
        "    thisAV=np.array([[choice,reward(arms[choice])]]) #add to our action value memory\n",
        "    #calculate the mean reward\n",
        "  runningMean=np.mean(av[:,1])\n",
        "  plt.scatter(i,runningMean)"
      ],
      "metadata": {
        "colab": {
          "base_uri": "https://localhost:8080/",
          "height": 449
        },
        "id": "gHDx-2lHZdM5",
        "outputId": "bdf2d1a5-59b0-4f29-ebbe-f50a38343c85"
      },
      "execution_count": null,
      "outputs": [
        {
          "output_type": "display_data",
          "data": {
            "text/plain": [
              "<Figure size 640x480 with 1 Axes>"
            ],
            "image/png": "[encoded data removed]"
          },
          "metadata": {}
        }
      ]
    },
    {
      "cell_type": "code",
      "source": [],
      "metadata": {
        "id": "uBJtKtona61V"
      },
      "execution_count": null,
      "outputs": []
    },
    {
      "cell_type": "code",
      "source": [],
      "metadata": {
        "id": "o-XHvq33b9u1"
      },
      "execution_count": null,
      "outputs": []
    }
  ]
}