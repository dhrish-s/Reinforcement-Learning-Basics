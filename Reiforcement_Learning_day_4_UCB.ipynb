{
  "nbformat": 4,
  "nbformat_minor": 0,
  "metadata": {
    "colab": {
      "provenance": []
    },
    "kernelspec": {
      "name": "python3",
      "display_name": "Python 3"
    },
    "language_info": {
      "name": "python"
    }
  },
  "cells": [
    {
      "cell_type": "code",
      "execution_count": 1,
      "metadata": {
        "colab": {
          "base_uri": "https://localhost:8080/"
        },
        "id": "IKSnAC5G5LAP",
        "outputId": "c4ef716f-4e7f-430e-9b49-cb45383cfc4c"
      },
      "outputs": [
        {
          "output_type": "stream",
          "name": "stderr",
          "text": [
            "/usr/local/lib/python3.10/dist-packages/gym/core.py:317: DeprecationWarning: \u001b[33mWARN: Initializing wrapper in old step API which returns one bool instead of two. It is recommended to set `new_step_api=True` to use new step API. This will be the default behaviour in future.\u001b[0m\n",
            "  deprecation(\n",
            "/usr/local/lib/python3.10/dist-packages/gym/wrappers/step_api_compatibility.py:39: DeprecationWarning: \u001b[33mWARN: Initializing environment in old step API which returns one bool instead of two. It is recommended to set `new_step_api=True` to use new step API. This will be the default behaviour in future.\u001b[0m\n",
            "  deprecation(\n"
          ]
        }
      ],
      "source": [
        "!git clone https://github.com/JKCooper2/gym-bandits.git > /dev/null 2>&1\n",
        "!pip install /content/gym-bandits/. > /dev/null 2>&1\n",
        "\n",
        "\n",
        "import gym\n",
        "import gym_bandits\n",
        "env=gym.make('BanditTwoArmedHighLowFixed-v0')"
      ]
    },
    {
      "cell_type": "code",
      "source": [
        "print(env.p_dist)\n",
        "# We can observe that with arm 1 we win the game with 80% probability and iwth arm 2 we win the game with 20% probability. Here, the best arm is arm 1, as with the arm 1 we win\n",
        "# with 80% probability, Now let's see the best arm and find it using the epsilon-greedy method"
      ],
      "metadata": {
        "colab": {
          "base_uri": "https://localhost:8080/"
        },
        "id": "QoV3uFVB5Neh",
        "outputId": "c3f7950b-5187-437f-94e5-cd9aea6858de"
      },
      "execution_count": 2,
      "outputs": [
        {
          "output_type": "stream",
          "name": "stdout",
          "text": [
            "[0.8, 0.2]\n"
          ]
        },
        {
          "output_type": "stream",
          "name": "stderr",
          "text": [
            "/usr/local/lib/python3.10/dist-packages/ipykernel/ipkernel.py:283: DeprecationWarning: `should_run_async` will not call `transform_cell` automatically in the future. Please pass the result to `transformed_cell` argument and any exception that happen during thetransform in `preprocessing_exc_tuple` in IPython 7.17 and above.\n",
            "  and should_run_async(code)\n"
          ]
        }
      ]
    },
    {
      "cell_type": "code",
      "source": [
        "# Initialize the variables\n",
        "# count - used for storing the number of times a arm is pullled\n",
        "import numpy as np\n",
        "count=np.zeros(2)\n",
        "\n",
        "# initialization process"
      ],
      "metadata": {
        "id": "4VSEhDsU5Ra-"
      },
      "execution_count": 3,
      "outputs": []
    },
    {
      "cell_type": "code",
      "source": [
        "# sum_rewards -> storing the sum of rewards for each arm\n",
        "sum_rewards = np.zeros(2)\n",
        "\n",
        "# initialization process"
      ],
      "metadata": {
        "id": "hjh53RiL5Wtj"
      },
      "execution_count": 4,
      "outputs": []
    },
    {
      "cell_type": "code",
      "source": [
        "# q -> storing the aveage rewards of each arm\n",
        "q =np.zeros(2)\n",
        "\n",
        "# initialization process"
      ],
      "metadata": {
        "id": "7_hDPw926Z41"
      },
      "execution_count": 5,
      "outputs": []
    },
    {
      "cell_type": "code",
      "source": [
        "# num_rounds - > number of rounds ( iterations ) :\n",
        "num_rounds = 100\n",
        "\n",
        "# initialization process"
      ],
      "metadata": {
        "id": "65KJBjZ07AzJ"
      },
      "execution_count": 6,
      "outputs": []
    },
    {
      "cell_type": "code",
      "source": [
        "# Upper Confidence Bound (UCB)\n",
        "def UCB(i):\n",
        "\n",
        "    #initialize the numpy array for storing the UCB of all the arms\n",
        "    ucb = np.zeros(2)\n",
        "\n",
        "    #before computing the UCB, we explore all the arms at least once, so for the first 2 rounds,\n",
        "    #we directly select the arm corresponding to the round number\n",
        "    if i < 2:\n",
        "        return i\n",
        "\n",
        "    #if the round is greater than 10 then, we compute the UCB of all the arms as specified in the\n",
        "    #equation (1) and return the arm which has the highest UCB:\n",
        "    else:\n",
        "        for arm in range(2):\n",
        "            ucb[arm] = q[arm] + np.sqrt((2*np.log(sum(count))) / count[arm])\n",
        "        return (np.argmax(ucb))"
      ],
      "metadata": {
        "id": "wTh4voiL7QEc",
        "colab": {
          "base_uri": "https://localhost:8080/"
        },
        "outputId": "3446b145-d46f-4dec-9467-669baaf0635c"
      },
      "execution_count": 13,
      "outputs": [
        {
          "output_type": "stream",
          "name": "stderr",
          "text": [
            "/usr/local/lib/python3.10/dist-packages/ipykernel/ipkernel.py:283: DeprecationWarning: `should_run_async` will not call `transform_cell` automatically in the future. Please pass the result to `transformed_cell` argument and any exception that happen during thetransform in `preprocessing_exc_tuple` in IPython 7.17 and above.\n",
            "  and should_run_async(code)\n"
          ]
        }
      ]
    },
    {
      "cell_type": "code",
      "source": [
        "# T=15\n",
        "for i in range(num_rounds):\n",
        "  # Compute the probability of each arm based on the softmax equation\n",
        "    # Temperature T controls the exploration-exploitation trade-off\n",
        "  arm = UCB(i)\n",
        "\n",
        "  env.reset()\n",
        "  # pull the arm and store  the reward and next state\n",
        "\n",
        "  next_state,reward,done,info=env.step(arm)\n",
        "\n",
        "  # increment the count of the arm by 1\n",
        "  count[arm] += 1\n",
        "\n",
        "  # updatethe sum of rewards of the arm\n",
        "  sum_rewards[arm] += reward\n",
        "\n",
        "  # update the average reward of the arm\n",
        "  q[arm] = sum_rewards[arm]/count[arm]\n",
        "\n",
        "  # reduce the temperature\n",
        "  T=T*0.99\n",
        "\n"
      ],
      "metadata": {
        "id": "rmOASMyR7Rcj"
      },
      "execution_count": 14,
      "outputs": []
    },
    {
      "cell_type": "code",
      "source": [
        "print(q)"
      ],
      "metadata": {
        "colab": {
          "base_uri": "https://localhost:8080/"
        },
        "id": "-Id-hvVUBIcM",
        "outputId": "1a8cfc78-a8a0-4ea6-8fd8-85336ea22535"
      },
      "execution_count": 15,
      "outputs": [
        {
          "output_type": "stream",
          "name": "stdout",
          "text": [
            "[0.73333333 0.16666667]\n"
          ]
        }
      ]
    },
    {
      "cell_type": "code",
      "source": [
        "np.argmax(q)+1"
      ],
      "metadata": {
        "id": "4TWr6uMpBexM",
        "colab": {
          "base_uri": "https://localhost:8080/"
        },
        "outputId": "35eb5d5c-7fa7-4b79-d261-8f7036a22d8a"
      },
      "execution_count": 17,
      "outputs": [
        {
          "output_type": "execute_result",
          "data": {
            "text/plain": [
              "1"
            ]
          },
          "metadata": {},
          "execution_count": 17
        }
      ]
    },
    {
      "cell_type": "code",
      "source": [],
      "metadata": {
        "id": "g7c0oFRiELkt"
      },
      "execution_count": null,
      "outputs": []
    },
    {
      "cell_type": "code",
      "source": [],
      "metadata": {
        "id": "jRVXjJy-FDHT"
      },
      "execution_count": null,
      "outputs": []
    }
  ]
}