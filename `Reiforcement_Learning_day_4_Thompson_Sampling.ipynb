{
  "nbformat": 4,
  "nbformat_minor": 0,
  "metadata": {
    "colab": {
      "provenance": []
    },
    "kernelspec": {
      "name": "python3",
      "display_name": "Python 3"
    },
    "language_info": {
      "name": "python"
    }
  },
  "cells": [
    {
      "cell_type": "code",
      "execution_count": 1,
      "metadata": {
        "colab": {
          "base_uri": "https://localhost:8080/"
        },
        "id": "IKSnAC5G5LAP",
        "outputId": "9675da38-6135-47bc-fbc1-590dfd616ba3"
      },
      "outputs": [
        {
          "output_type": "stream",
          "name": "stderr",
          "text": [
            "/usr/local/lib/python3.10/dist-packages/gym/core.py:317: DeprecationWarning: \u001b[33mWARN: Initializing wrapper in old step API which returns one bool instead of two. It is recommended to set `new_step_api=True` to use new step API. This will be the default behaviour in future.\u001b[0m\n",
            "  deprecation(\n",
            "/usr/local/lib/python3.10/dist-packages/gym/wrappers/step_api_compatibility.py:39: DeprecationWarning: \u001b[33mWARN: Initializing environment in old step API which returns one bool instead of two. It is recommended to set `new_step_api=True` to use new step API. This will be the default behaviour in future.\u001b[0m\n",
            "  deprecation(\n"
          ]
        }
      ],
      "source": [
        "!git clone https://github.com/JKCooper2/gym-bandits.git > /dev/null 2>&1\n",
        "!pip install /content/gym-bandits/. > /dev/null 2>&1\n",
        "\n",
        "\n",
        "import gym\n",
        "import gym_bandits\n",
        "env=gym.make('BanditTwoArmedHighLowFixed-v0')"
      ]
    },
    {
      "cell_type": "code",
      "source": [
        "print(env.p_dist)\n",
        "# We can observe that with arm 1 we win the game with 80% probability and iwth arm 2 we win the game with 20% probability. Here, the best arm is arm 1, as with the arm 1 we win\n",
        "# with 80% probability, Now let's see the best arm and find it using the epsilon-greedy method"
      ],
      "metadata": {
        "colab": {
          "base_uri": "https://localhost:8080/"
        },
        "id": "QoV3uFVB5Neh",
        "outputId": "6771c41f-651a-41f6-9a6d-f11c550d2526"
      },
      "execution_count": 2,
      "outputs": [
        {
          "output_type": "stream",
          "name": "stdout",
          "text": [
            "[0.8, 0.2]\n"
          ]
        },
        {
          "output_type": "stream",
          "name": "stderr",
          "text": [
            "/usr/local/lib/python3.10/dist-packages/ipykernel/ipkernel.py:283: DeprecationWarning: `should_run_async` will not call `transform_cell` automatically in the future. Please pass the result to `transformed_cell` argument and any exception that happen during thetransform in `preprocessing_exc_tuple` in IPython 7.17 and above.\n",
            "  and should_run_async(code)\n"
          ]
        }
      ]
    },
    {
      "cell_type": "code",
      "source": [
        "# Initialize the variables\n",
        "# count - used for storing the number of times a arm is pullled\n",
        "import numpy as np\n",
        "count=np.zeros(2)\n",
        "\n",
        "# initialization process"
      ],
      "metadata": {
        "id": "4VSEhDsU5Ra-"
      },
      "execution_count": 3,
      "outputs": []
    },
    {
      "cell_type": "code",
      "source": [
        "# sum_rewards -> storing the sum of rewards for each arm\n",
        "sum_rewards = np.zeros(2)\n",
        "\n",
        "# initialization process"
      ],
      "metadata": {
        "id": "hjh53RiL5Wtj"
      },
      "execution_count": 4,
      "outputs": []
    },
    {
      "cell_type": "code",
      "source": [
        "# q -> storing the aveage rewards of each arm\n",
        "q =np.zeros(2)\n",
        "\n",
        "# initialization process"
      ],
      "metadata": {
        "id": "7_hDPw926Z41"
      },
      "execution_count": 5,
      "outputs": []
    },
    {
      "cell_type": "code",
      "source": [
        "# num_rounds - > number of rounds ( iterations ) :\n",
        "num_rounds = 100\n",
        "\n",
        "# initialization process\n",
        "\n",
        "alpha = np.ones(2)\n",
        "beta = np.ones(2)"
      ],
      "metadata": {
        "id": "65KJBjZ07AzJ"
      },
      "execution_count": 6,
      "outputs": []
    },
    {
      "cell_type": "code",
      "source": [
        "# Thompson Sampling\n",
        "\n",
        "def thompson_sampling(alpha,beta):\n",
        "\n",
        "    samples = [np.random.beta(alpha[i]+1,beta[i]+1) for i in range(2)]\n",
        "\n",
        "    return np.argmax(samples)"
      ],
      "metadata": {
        "id": "wTh4voiL7QEc"
      },
      "execution_count": 7,
      "outputs": []
    },
    {
      "cell_type": "code",
      "source": [
        "for i in range(num_rounds):\n",
        "\n",
        "    #select the arm based on the thompson sampling method\n",
        "    arm = thompson_sampling(alpha,beta)# Thompson Sampling policy\n",
        "    env.reset()\n",
        "    #pull the arm and store the reward and next state information\n",
        "    next_state, reward, done, info = env.step(arm)\n",
        "\n",
        "    #increment the count of the arm by 1\n",
        "    count[arm] += 1\n",
        "\n",
        "    #update the sum of rewards of the arm\n",
        "    sum_rewards[arm]+=reward\n",
        "\n",
        "    #update the average reward of the arm\n",
        "    q[arm] = sum_rewards[arm]/count[arm]\n",
        "\n",
        "    #if we win the game, that is, if the reward is equal to 1, then we update the value of alpha as\n",
        "    #alpha = alpha + 1 else we update the value of beta as beta = beta + 1\n",
        "    if reward==1:\n",
        "        alpha[arm] = alpha[arm] + 1\n",
        "    else:\n",
        "        beta[arm] = beta[arm] + 1"
      ],
      "metadata": {
        "colab": {
          "base_uri": "https://localhost:8080/"
        },
        "id": "QLhkJA60HJor",
        "outputId": "293538dc-0392-4d77-df62-d9b5e0f0562d"
      },
      "execution_count": 9,
      "outputs": [
        {
          "output_type": "stream",
          "name": "stderr",
          "text": [
            "/usr/local/lib/python3.10/dist-packages/ipykernel/ipkernel.py:283: DeprecationWarning: `should_run_async` will not call `transform_cell` automatically in the future. Please pass the result to `transformed_cell` argument and any exception that happen during thetransform in `preprocessing_exc_tuple` in IPython 7.17 and above.\n",
            "  and should_run_async(code)\n"
          ]
        }
      ]
    },
    {
      "cell_type": "code",
      "source": [
        "print(q)"
      ],
      "metadata": {
        "id": "rmOASMyR7Rcj",
        "colab": {
          "base_uri": "https://localhost:8080/"
        },
        "outputId": "f076edd4-32d7-4ddf-95b1-2ef0bae869fa"
      },
      "execution_count": 10,
      "outputs": [
        {
          "output_type": "stream",
          "name": "stdout",
          "text": [
            "[0.79591837 0.        ]\n"
          ]
        },
        {
          "output_type": "stream",
          "name": "stderr",
          "text": [
            "/usr/local/lib/python3.10/dist-packages/ipykernel/ipkernel.py:283: DeprecationWarning: `should_run_async` will not call `transform_cell` automatically in the future. Please pass the result to `transformed_cell` argument and any exception that happen during thetransform in `preprocessing_exc_tuple` in IPython 7.17 and above.\n",
            "  and should_run_async(code)\n"
          ]
        }
      ]
    },
    {
      "cell_type": "code",
      "source": [],
      "metadata": {
        "id": "-Id-hvVUBIcM"
      },
      "execution_count": 10,
      "outputs": []
    },
    {
      "cell_type": "code",
      "source": [
        "np.argmax(q)+1"
      ],
      "metadata": {
        "id": "4TWr6uMpBexM",
        "colab": {
          "base_uri": "https://localhost:8080/"
        },
        "outputId": "3c4ece83-7c12-4c3a-e093-942a6a6ab2b3"
      },
      "execution_count": 11,
      "outputs": [
        {
          "output_type": "execute_result",
          "data": {
            "text/plain": [
              "1"
            ]
          },
          "metadata": {},
          "execution_count": 11
        }
      ]
    },
    {
      "cell_type": "code",
      "source": [],
      "metadata": {
        "id": "g7c0oFRiELkt"
      },
      "execution_count": 11,
      "outputs": []
    },
    {
      "cell_type": "code",
      "source": [],
      "metadata": {
        "id": "jRVXjJy-FDHT"
      },
      "execution_count": null,
      "outputs": []
    }
  ]
}